{
 "cells": [
  {
   "cell_type": "code",
   "execution_count": 2,
   "metadata": {},
   "outputs": [
    {
     "name": "stdout",
     "output_type": "stream",
     "text": [
      "pose 2:\n",
      "  data: [0.9884592729350424, 0.054715331397186526, -0.1412603916843763, 0.0670022838143229, 0.11539561152939022, -0.87609283171149, 0.46812947254312254, 0.15379504537230435, -0.09814335733245227, -0.47902774735273956, -0.8722959925837535, 0.7934461899273646, 0.0, 0.0, 0.0, 1.0]\n",
      "pose 3:\n",
      "  data: [0.9862941081469244, 0.018761185092196146, -0.1639266609450682, 0.23338391239642525, 0.10196589339909523, -0.8503952226488178, 0.5161694701155738, 0.1736629423676692, -0.1297184983646794, -0.5258098356155049, -0.8406527986939727, 0.7732639265624736, 0.0, 0.0, 0.0, 1.0]\n"
     ]
    }
   ],
   "source": [
    "import numpy as np\n",
    "\n",
    "def quaternion_to_rotation_matrix(q):\n",
    "    \"\"\"\n",
    "    transform quaternion (x, y, z, w) to rotation matrix (3x3).\n",
    "    \"\"\"\n",
    "    q_x, q_y, q_z, q_w = q\n",
    "\n",
    "    R = np.array([\n",
    "        [1 - 2*(q_y**2 + q_z**2), 2*(q_x*q_y - q_w*q_z), 2*(q_x*q_z + q_w*q_y)],\n",
    "        [2*(q_x*q_y + q_w*q_z), 1 - 2*(q_x**2 + q_z**2), 2*(q_y*q_z - q_w*q_x)],\n",
    "        [2*(q_x*q_z - q_w*q_y), 2*(q_y*q_z + q_w*q_x), 1 - 2*(q_x**2 + q_y**2)]\n",
    "    ])\n",
    "    return R\n",
    "\n",
    "# # pose 2\n",
    "translation2 = np.array([\n",
    "    0.0670022838143229,\n",
    "    0.15379504537230435,\n",
    "    0.7934461899273646\n",
    "    ])\n",
    "\n",
    "quaternion2 = (\n",
    "    -0.9665464418782842,\n",
    "    -0.04399968163868079,\n",
    "    0.061922464002763446,\n",
    "    0.24498492231145585\n",
    "    )\n",
    "\n",
    "# pose 3\n",
    "translation3 = np.array([\n",
    "    0.23338391239642525,\n",
    "    0.1736629423676692,\n",
    "    0.7732639265624736\n",
    "    ])\n",
    "\n",
    "quaternion3 = (\n",
    "    -0.9588198644022915,\n",
    "    -0.03147803956026457,\n",
    "    0.07656421456516234,\n",
    "    0.27168275930031627\n",
    "    )\n",
    "\n",
    "# compute rotation matrix\n",
    "R2 = quaternion_to_rotation_matrix(quaternion2)\n",
    "R3 = quaternion_to_rotation_matrix(quaternion3)\n",
    "\n",
    "\n",
    "# create 4x4 transformation matrix\n",
    "T2 = np.eye(4)\n",
    "T2[:3, :3] = R2\n",
    "T2[:3, 3] = translation2\n",
    "T2 = T2.reshape(-1)\n",
    "\n",
    "T3 = np.eye(4)\n",
    "T3[:3, :3] = R3\n",
    "T3[:3, 3] = translation3\n",
    "T3 = T3.reshape(-1)\n",
    "\n",
    "print('pose 2:')\n",
    "print('  data:',T2.tolist())\n",
    "print('pose 3:')\n",
    "print('  data:',T3.tolist())\n",
    "\n"
   ]
  },
  {
   "cell_type": "code",
   "execution_count": 1,
   "metadata": {},
   "outputs": [],
   "source": [
    "# distance = np.linalg.norm(translation)\n",
    "# distance"
   ]
  }
 ],
 "metadata": {
  "kernelspec": {
   "display_name": "pytorch",
   "language": "python",
   "name": "python3"
  },
  "language_info": {
   "codemirror_mode": {
    "name": "ipython",
    "version": 3
   },
   "file_extension": ".py",
   "mimetype": "text/x-python",
   "name": "python",
   "nbconvert_exporter": "python",
   "pygments_lexer": "ipython3",
   "version": "3.10.16"
  }
 },
 "nbformat": 4,
 "nbformat_minor": 2
}
