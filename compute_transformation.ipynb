{
 "cells": [
  {
   "cell_type": "code",
   "execution_count": 2,
   "metadata": {},
   "outputs": [
    {
     "name": "stdout",
     "output_type": "stream",
     "text": [
      "data: [0.8413915050051063, -0.23751818051424825, -0.48543325929569675, 0.06118632417743634, -0.3401095221102079, -0.9307776858414645, -0.13408360268718222, 0.0031840958976083397, -0.41998315237067324, 0.277917278096935, -0.8639306327825069, 0.3977829281159889, 0.0, 0.0, 0.0, 1.0]\n"
     ]
    }
   ],
   "source": [
    "import numpy as np\n",
    "\n",
    "def quaternion_to_rotation_matrix(q):\n",
    "    \"\"\"\n",
    "    transform quaternion (x, y, z, w) to rotation matrix (3x3).\n",
    "    \"\"\"\n",
    "    q_x, q_y, q_z, q_w = q\n",
    "\n",
    "    R = np.array([\n",
    "        [1 - 2*(q_y**2 + q_z**2), 2*(q_x*q_y - q_w*q_z), 2*(q_x*q_z + q_w*q_y)],\n",
    "        [2*(q_x*q_y + q_w*q_z), 1 - 2*(q_x**2 + q_z**2), 2*(q_y*q_z - q_w*q_x)],\n",
    "        [2*(q_x*q_z - q_w*q_y), 2*(q_y*q_z + q_w*q_x), 1 - 2*(q_x**2 + q_y**2)]\n",
    "    ])\n",
    "    return R\n",
    "# - position:\n",
    "#     x: 0.07118632417743634\n",
    "#     y: -0.04681590410239166\n",
    "#     z: 0.3977829281159889\n",
    "#   orientation:\n",
    "#     x: 0.9534280024769932\n",
    "#     y: -0.15146075559029815\n",
    "#     z: -0.23741079801361778\n",
    "#     w: 0.10803146113648447\n",
    "\n",
    "\n",
    "translation = np.array([\n",
    "    0.07118632417743634,\n",
    "    -0.04681590410239166,\n",
    "    0.3977829281159889\n",
    "    ])\n",
    "\n",
    "quaternion = (\n",
    "    0.9534280024769932,\n",
    "    -0.15146075559029815,\n",
    "    -0.23741079801361778,\n",
    "    0.10803146113648447\n",
    "    )\n",
    "\n",
    "\n",
    "# compute rotation matrix\n",
    "R = quaternion_to_rotation_matrix(quaternion)\n",
    "\n",
    "# update the translation of transformation matrix\n",
    "# x_offset = -0.03\n",
    "# y_offset = 0.03\n",
    "# z_offset = 0.1\n",
    "\n",
    "x_offset = -0.01\n",
    "y_offset = 0.05\n",
    "z_offset = 0.0\n",
    "\n",
    "translation[0] += x_offset\n",
    "translation[1] += y_offset\n",
    "translation[2] += z_offset\n",
    "\n",
    "# create 4x4 transformation matrix\n",
    "T = np.eye(4)\n",
    "T[:3, :3] = R\n",
    "T[:3, 3] = translation\n",
    "\n",
    "\n",
    "\n",
    "T = T.reshape(-1)\n",
    "print('data:',T.tolist())\n",
    "\n"
   ]
  },
  {
   "cell_type": "code",
   "execution_count": null,
   "metadata": {},
   "outputs": [],
   "source": [
    "distance = np.linalg.norm(translation)\n",
    "distance"
   ]
  }
 ],
 "metadata": {
  "kernelspec": {
   "display_name": "pytorch",
   "language": "python",
   "name": "python3"
  },
  "language_info": {
   "codemirror_mode": {
    "name": "ipython",
    "version": 3
   },
   "file_extension": ".py",
   "mimetype": "text/x-python",
   "name": "python",
   "nbconvert_exporter": "python",
   "pygments_lexer": "ipython3",
   "version": "3.8.20"
  }
 },
 "nbformat": 4,
 "nbformat_minor": 2
}
