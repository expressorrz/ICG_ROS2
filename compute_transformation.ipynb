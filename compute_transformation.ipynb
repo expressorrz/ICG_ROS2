{
 "cells": [
  {
   "cell_type": "code",
   "execution_count": 2,
   "metadata": {},
   "outputs": [
    {
     "name": "stdout",
     "output_type": "stream",
     "text": [
      "  data: [-0.21083227554987305, -0.970390124708733, 0.11786754198774074, -0.009316448071705737, -0.5058715212716469, 0.005134287380312741, -0.8625935561198019, 0.19128429431383578, 0.836447102662668, -0.2414883950852833, -0.49197520210510826, 0.7847344338897029, 0.0, 0.0, 0.0, 1.0]\n"
     ]
    }
   ],
   "source": [
    "import numpy as np\n",
    "\n",
    "def quaternion_to_rotation_matrix(q):\n",
    "    \"\"\"\n",
    "    transform quaternion (x, y, z, w) to rotation matrix (3x3).\n",
    "    \"\"\"\n",
    "    q_x, q_y, q_z, q_w = q\n",
    "\n",
    "    R = np.array([\n",
    "        [1 - 2*(q_y**2 + q_z**2), 2*(q_x*q_y - q_w*q_z), 2*(q_x*q_z + q_w*q_y)],\n",
    "        [2*(q_x*q_y + q_w*q_z), 1 - 2*(q_x**2 + q_z**2), 2*(q_y*q_z - q_w*q_x)],\n",
    "        [2*(q_x*q_z - q_w*q_y), 2*(q_y*q_z + q_w*q_x), 1 - 2*(q_x**2 + q_y**2)]\n",
    "    ])\n",
    "    return R\n",
    "\n",
    "# # pose 1\n",
    "translation = np.array([\n",
    "    -0.039316448071705735,\n",
    "    0.12128429431383578,\n",
    "    0.7947344338897029\n",
    "    ])\n",
    "\n",
    "quaternion = (\n",
    "    0.5648027618503034,\n",
    "    -0.6534412301491417,\n",
    "    0.4224105781299908,\n",
    "    0.27492126587685567\n",
    "    )\n",
    "\n",
    "\n",
    "# # pose 2\n",
    "# translation = np.array([\n",
    "#     -0.23809420003546866,\n",
    "#     0.1167074247557466,\n",
    "#     0.7386686615447976\n",
    "#     ])\n",
    "\n",
    "# quaternion = (\n",
    "#     0.543560992512003,\n",
    "#     -0.6651238634694483,\n",
    "#     0.43304826065692587,\n",
    "#     0.2731682587799183\n",
    "#     )\n",
    "\n",
    "\n",
    "# compute rotation matrix\n",
    "R = quaternion_to_rotation_matrix(quaternion)\n",
    "\n",
    "# update the translation of transformation matrix\n",
    "# x_offset = -0.03\n",
    "# y_offset = 0.03\n",
    "# z_offset = 0.1\n",
    "\n",
    "x_offset = 0.03\n",
    "y_offset = 0.07\n",
    "z_offset = -0.01\n",
    "\n",
    "translation[0] += x_offset\n",
    "translation[1] += y_offset\n",
    "translation[2] += z_offset\n",
    "\n",
    "# create 4x4 transformation matrix\n",
    "T = np.eye(4)\n",
    "T[:3, :3] = R\n",
    "T[:3, 3] = translation\n",
    "\n",
    "\n",
    "\n",
    "T = T.reshape(-1)\n",
    "print('  data:',T.tolist())\n",
    "\n"
   ]
  },
  {
   "cell_type": "code",
   "execution_count": 3,
   "metadata": {},
   "outputs": [
    {
     "data": {
      "text/plain": [
       "0.8077651943405382"
      ]
     },
     "execution_count": 3,
     "metadata": {},
     "output_type": "execute_result"
    }
   ],
   "source": [
    "distance = np.linalg.norm(translation)\n",
    "distance"
   ]
  }
 ],
 "metadata": {
  "kernelspec": {
   "display_name": "pytorch",
   "language": "python",
   "name": "python3"
  },
  "language_info": {
   "codemirror_mode": {
    "name": "ipython",
    "version": 3
   },
   "file_extension": ".py",
   "mimetype": "text/x-python",
   "name": "python",
   "nbconvert_exporter": "python",
   "pygments_lexer": "ipython3",
   "version": "3.10.16"
  }
 },
 "nbformat": 4,
 "nbformat_minor": 2
}
