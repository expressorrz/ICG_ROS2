{
 "cells": [
  {
   "cell_type": "code",
   "execution_count": 6,
   "metadata": {},
   "outputs": [
    {
     "name": "stdout",
     "output_type": "stream",
     "text": [
      "[0.5670385781691637, -0.456635649961974, 0.6855298199580371, 0.13004705860415103, -0.7268257681662933, -0.6689653015860157, 0.15559475570663867, 0.08448813199682037, 0.38754555035165983, -0.5864889670383717, -0.7112236905115663, 0.8091009130690069, 0.0, 0.0, 0.0, 1.0]\n"
     ]
    }
   ],
   "source": [
    "import numpy as np\n",
    "\n",
    "def quaternion_to_rotation_matrix(q):\n",
    "    \"\"\"\n",
    "    transform quaternion (x, y, z, w) to rotation matrix (3x3).\n",
    "    \"\"\"\n",
    "    q_x, q_y, q_z, q_w = q\n",
    "\n",
    "    R = np.array([\n",
    "        [1 - 2*(q_y**2 + q_z**2), 2*(q_x*q_y - q_w*q_z), 2*(q_x*q_z + q_w*q_y)],\n",
    "        [2*(q_x*q_y + q_w*q_z), 1 - 2*(q_x**2 + q_z**2), 2*(q_y*q_z - q_w*q_x)],\n",
    "        [2*(q_x*q_z - q_w*q_y), 2*(q_y*q_z + q_w*q_x), 1 - 2*(q_x**2 + q_y**2)]\n",
    "    ])\n",
    "    return R\n",
    "\n",
    "translation = np.array([\n",
    "    0.17004705860415104,\n",
    "    0.04448813199682037,\n",
    "    0.7091009130690069\n",
    "    ])\n",
    "\n",
    "quaternion = (\n",
    "    -0.8583745642589174,\n",
    "    0.3446809433216417,\n",
    "    -0.31253121160345154,\n",
    "    0.21613050806837825\n",
    "    )\n",
    "\n",
    "\n",
    "# compute rotation matrix\n",
    "R = quaternion_to_rotation_matrix(quaternion)\n",
    "\n",
    "# update the translation of transformation matrix\n",
    "# x_offset = -0.03\n",
    "# y_offset = 0.03\n",
    "# z_offset = 0.1\n",
    "\n",
    "x_offset = -0.04\n",
    "y_offset = 0.04\n",
    "z_offset = 0.1\n",
    "\n",
    "translation[0] += x_offset\n",
    "translation[1] += y_offset\n",
    "translation[2] += z_offset\n",
    "\n",
    "# create 4x4 transformation matrix\n",
    "T = np.eye(4)\n",
    "T[:3, :3] = R\n",
    "T[:3, 3] = translation\n",
    "\n",
    "\n",
    "\n",
    "T = T.reshape(-1)\n",
    "print(T.tolist())\n",
    "\n"
   ]
  },
  {
   "cell_type": "code",
   "execution_count": 7,
   "metadata": {},
   "outputs": [
    {
     "data": {
      "text/plain": [
       "0.8238293327073298"
      ]
     },
     "execution_count": 7,
     "metadata": {},
     "output_type": "execute_result"
    }
   ],
   "source": [
    "distance = np.linalg.norm(translation)\n",
    "distance"
   ]
  }
 ],
 "metadata": {
  "kernelspec": {
   "display_name": "pytorch",
   "language": "python",
   "name": "python3"
  },
  "language_info": {
   "codemirror_mode": {
    "name": "ipython",
    "version": 3
   },
   "file_extension": ".py",
   "mimetype": "text/x-python",
   "name": "python",
   "nbconvert_exporter": "python",
   "pygments_lexer": "ipython3",
   "version": "3.10.16"
  }
 },
 "nbformat": 4,
 "nbformat_minor": 2
}
