{
 "cells": [
  {
   "cell_type": "code",
   "execution_count": null,
   "metadata": {},
   "outputs": [
    {
     "name": "stdout",
     "output_type": "stream",
     "text": [
      "[0.6758202515525127, -0.7366700077816936, 0.024172033973540508, 0.1126160444903073, -0.2735083112811706, -0.2810997914668707, -0.9198783130922285, 0.03404325107350957, 0.6844415177731555, 0.6150611407593566, -0.3914583015803572, 1.0858791829363057, 0.0, 0.0, 0.0, 1.0]\n"
     ]
    }
   ],
   "source": [
    "import numpy as np\n",
    "\n",
    "def quaternion_to_rotation_matrix(q):\n",
    "    \"\"\"\n",
    "    transform quaternion (x, y, z, w) to rotation matrix (3x3).\n",
    "    \"\"\"\n",
    "    q_x, q_y, q_z, q_w = q\n",
    "\n",
    "    R = np.array([\n",
    "        [1 - 2*(q_y**2 + q_z**2), 2*(q_x*q_y - q_w*q_z), 2*(q_x*q_z + q_w*q_y)],\n",
    "        [2*(q_x*q_y + q_w*q_z), 1 - 2*(q_x**2 + q_z**2), 2*(q_y*q_z - q_w*q_x)],\n",
    "        [2*(q_x*q_z - q_w*q_y), 2*(q_y*q_z + q_w*q_x), 1 - 2*(q_x**2 + q_y**2)]\n",
    "    ])\n",
    "    return R\n",
    "\n",
    "translation = np.array([\n",
    "    0.1126160444903073,\n",
    "    0.11404325107350957,\n",
    "    1.0858791829363057\n",
    "    ])\n",
    "\n",
    "quaternion = (\n",
    "    0.7662209773622327,\n",
    "    -0.32959757984585303,\n",
    "    0.23120404318155902,\n",
    "    0.500814875604071\n",
    "    )\n",
    "\n",
    "\n",
    "# compute rotation matrix\n",
    "R = quaternion_to_rotation_matrix(quaternion)\n",
    "\n",
    "# update the translation of transformation matrix\n",
    "# x_offset = -0.03\n",
    "# y_offset = 0.03\n",
    "# z_offset = 0.1\n",
    "\n",
    "x_offset = -0.0\n",
    "y_offset = 0.08\n",
    "z_offset = 0.00\n",
    "\n",
    "translation[0] += x_offset\n",
    "translation[1] += y_offset\n",
    "translation[2] += z_offset\n",
    "\n",
    "# create 4x4 transformation matrix\n",
    "T = np.eye(4)\n",
    "T[:3, :3] = R\n",
    "T[:3, 3] = translation\n",
    "\n",
    "\n",
    "\n",
    "T = T.reshape(-1)\n",
    "print(T.tolist())\n",
    "\n"
   ]
  },
  {
   "cell_type": "code",
   "execution_count": 3,
   "metadata": {},
   "outputs": [
    {
     "data": {
      "text/plain": [
       "1.092233911007489"
      ]
     },
     "execution_count": 3,
     "metadata": {},
     "output_type": "execute_result"
    }
   ],
   "source": [
    "distance = np.linalg.norm(translation)\n",
    "distance"
   ]
  }
 ],
 "metadata": {
  "kernelspec": {
   "display_name": "pytorch",
   "language": "python",
   "name": "python3"
  },
  "language_info": {
   "codemirror_mode": {
    "name": "ipython",
    "version": 3
   },
   "file_extension": ".py",
   "mimetype": "text/x-python",
   "name": "python",
   "nbconvert_exporter": "python",
   "pygments_lexer": "ipython3",
   "version": "3.10.16"
  }
 },
 "nbformat": 4,
 "nbformat_minor": 2
}
